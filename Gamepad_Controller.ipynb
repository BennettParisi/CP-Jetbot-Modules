{
 "cells": [
  {
   "cell_type": "code",
   "execution_count": null,
   "id": "16717302",
   "metadata": {},
   "outputs": [],
   "source": [
    "import ipywidgets.widgets as widgets\n",
    "\n",
    "controller = widgets.Controller(index=1)  # replace with index of your controller\n",
    "\n",
    "display(controller)"
   ]
  },
  {
   "cell_type": "code",
   "execution_count": null,
   "id": "0bb8ac62",
   "metadata": {},
   "outputs": [],
   "source": [
    "from jetbot import Robot\n",
    "import traitlets\n",
    "\n",
    "robot = Robot()\n",
    "\n",
    "# Speed and turn factor sliders (optional for tuning)\n",
    "max_speed = 0.15\n",
    "max_turn = 0.05\n",
    "\n",
    "\n",
    "def compute_motor_values(change):\n",
    "    forward = -controller.axes[1].value  # Forward/backward\n",
    "    turn = -controller.axes[2].value      # Left/right\n",
    "\n",
    "    speed = forward * max_speed\n",
    "    turn_val = turn * max_turn\n",
    "\n",
    "    # Turning logic: apply turn_val to only one motor\n",
    "    left_motor = speed\n",
    "    right_motor = speed\n",
    "\n",
    "    if turn_val > 0:\n",
    "        # Turning right: reduce left motor\n",
    "        left_motor -= turn_val\n",
    "    elif turn_val < 0:\n",
    "        # Turning left: reduce right motor\n",
    "        right_motor += turn_val  # turn_val is negative\n",
    "\n",
    "#     # Clamp motor values (JetBot max usually ~0.3)\n",
    "#     left_motor = max(min(left_motor, 0.3), -0.3)\n",
    "#     right_motor = max(min(right_motor, 0.3), -0.3)\n",
    "\n",
    "    robot.set_motors(left_motor, right_motor)\n",
    "\n",
    "# Observe changes to joystick axes\n",
    "controller.axes[1].observe(compute_motor_values, names='value')\n",
    "controller.axes[2].observe(compute_motor_values, names='value')\n"
   ]
  }
 ],
 "metadata": {
  "language_info": {
   "name": "python"
  }
 },
 "nbformat": 4,
 "nbformat_minor": 5
}
