{
 "cells": [
  {
   "cell_type": "markdown",
   "id": "d8d80826",
   "metadata": {},
   "source": [
    "# Camera Capture\n",
    "\n",
    "Here is a notebook for you to save images.\n",
    "Change the folder name if you want, then run the following code. Below should be a widget showing the live camera feed and a button to save the image. When you save the image, text should appear that says \"Success! Saved image_[number].jpg!\"."
   ]
  },
  {
   "cell_type": "code",
   "execution_count": null,
   "id": "42e4afd8",
   "metadata": {},
   "outputs": [],
   "source": [
    "from jetbot import Robot, Camera, bgr8_to_jpeg\n",
    "import cv2\n",
    "import numpy as np\n",
    "import ipywidgets as widgets\n",
    "from IPython.display import display, Image, clear_output\n",
    "import time\n",
    "import threading\n",
    "import os\n",
    "\n",
    "# Initialize our camera\n",
    "camera = Camera.instance()"
   ]
  },
  {
   "cell_type": "markdown",
   "id": "dce0c5cb",
   "metadata": {},
   "source": [
    "Change the name of the folder you want these to be saved in here."
   ]
  },
  {
   "cell_type": "code",
   "execution_count": null,
   "id": "1a5853c3",
   "metadata": {},
   "outputs": [],
   "source": [
    "# TODO: Change folder name HERE!!!\n",
    "SAVE_DIR = \"stopsign_images\""
   ]
  },
  {
   "cell_type": "code",
   "execution_count": null,
   "id": "dc3fc972",
   "metadata": {},
   "outputs": [],
   "source": [
    "# Setup Widgets\n",
    "image = widgets.Image(format='jpeg', width=300, height=300)\n",
    "save_button = widgets.Button(description='Save Image')\n",
    "saved_count = 0\n",
    "status_label = widgets.Label(value='Ready')\n",
    "display(widgets.VBox([image, save_button, status_label]))\n",
    "\n",
    "stop_event = threading.Event()\n",
    "\n",
    "# Image Update Function\n",
    "def update_image_loop():\n",
    "    global ret\n",
    "    while not stop_event.is_set():\n",
    "        frame = camera.value\n",
    "        image.value = bgr8_to_jpeg(frame)\n",
    "        time.sleep(0.01)  # control the update rate\n",
    "\n",
    "# Button Callback to Save Image\n",
    "os.makedirs(SAVE_DIR, exist_ok=True)\n",
    "\n",
    "def save_image_callback(b):\n",
    "    global saved_count\n",
    "    frame = camera.value\n",
    "    filename = f\"image_{saved_count}.jpg\"\n",
    "    filepath = os.path.join(SAVE_DIR, filename)\n",
    "    with open(filepath, 'wb') as f:\n",
    "        f.write(image.value)\n",
    "    status_label.value = f\"Success! Saved {filename}!\"\n",
    "    saved_count += 1\n",
    "\n",
    "# Connect Callback\n",
    "save_button.on_click(save_image_callback)\n",
    "\n",
    "# Starts the Feed\n",
    "camera.start()\n",
    "thread = threading.Thread(target=update_image_loop, daemon=True)\n",
    "thread.start()"
   ]
  },
  {
   "cell_type": "code",
   "execution_count": null,
   "id": "a9e25538",
   "metadata": {},
   "outputs": [],
   "source": [
    "stop_event.set()\n",
    "thread.join()\n",
    "stop_event.clear()\n",
    "camera.stop()"
   ]
  }
 ],
 "metadata": {
  "kernelspec": {
   "display_name": "Python 3",
   "language": "python",
   "name": "python3"
  },
  "language_info": {
   "codemirror_mode": {
    "name": "ipython",
    "version": 3
   },
   "file_extension": ".py",
   "mimetype": "text/x-python",
   "name": "python",
   "nbconvert_exporter": "python",
   "pygments_lexer": "ipython3",
   "version": "3.13.1"
  }
 },
 "nbformat": 4,
 "nbformat_minor": 5
}
