{
 "cells": [
  {
   "cell_type": "markdown",
   "metadata": {},
   "source": [
    "# Module 4: Visual Lane Servoing and Lane Localization\n",
    "\n",
    "Now that we have our basic motion and camera imaging that we can get from our robot, we want to combine the two where it can travel down a road while staying within the lanes.\n",
    "\n",
    "This Module should follow Module 3: Camera and Computer Vision Basics"
   ]
  }
 ],
 "metadata": {
  "language_info": {
   "name": "python"
  }
 },
 "nbformat": 4,
 "nbformat_minor": 2
}
