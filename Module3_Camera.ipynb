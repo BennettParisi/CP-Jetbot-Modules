{
 "cells": [
  {
   "cell_type": "markdown",
   "metadata": {},
   "source": [
    "# Module 3: Camera and Computer Vision Basics\n",
    "\n",
    "Now that we have basic motion and odometery implemented, we will look at the camera on the <span style=\"color:#154734\">Jetbot</span> and how images are handled within Python.\n",
    "\n",
    "This Module should follow Module 2: Path Following"
   ]
  },
  {
   "cell_type": "markdown",
   "metadata": {},
   "source": [
    "As always, we need to first initialize some of the packages and objects for our <span style=\"color:#154734\">Jetbot</span>."
   ]
  },
  {
   "cell_type": "code",
   "execution_count": null,
   "metadata": {},
   "outputs": [],
   "source": [
    "# sudo pip install --upgrade pip\n",
    "# sudo pip install opencv-python"
   ]
  },
  {
   "cell_type": "code",
   "execution_count": null,
   "metadata": {},
   "outputs": [],
   "source": [
    "from jetbot import Robot, Camera, bgr8_to_jpeg\n",
    "import cv2\n",
    "import numpy as np\n",
    "import ipywidgets as widgets\n",
    "from IPython.display import display, Image, clear_output\n",
    "import time\n",
    "\n",
    "robot = Robot()"
   ]
  },
  {
   "cell_type": "markdown",
   "metadata": {},
   "source": [
    "There are now a few new items we are importing into our code now. In no particular order, they are:\n",
    "- from Jetbot import Camera, bgr8_to_jpeg\n",
    "- import cv2\n",
    "- import numpy as np\n",
    "- from IPython.display import display, Image, clear_output\n",
    "- import time\n",
    "\n",
    "Each item is important to making our camera function and display, while also giving us the ability to modify our image to our liking. Their functions and usage will be described following each of the code blocks below."
   ]
  },
  {
   "cell_type": "markdown",
   "metadata": {},
   "source": [
    "### Taking Pictures"
   ]
  },
  {
   "cell_type": "code",
   "execution_count": null,
   "metadata": {},
   "outputs": [],
   "source": [
    "# Initialize our camera\n",
    "camera = Camera.instance()\n",
    "\n",
    "# Save image data (modified to be numpy array)\n",
    "image = np.array(camera.value)\n",
    "\n",
    "jpeg_image = bgr8_to_jpeg(image)\n",
    "\n",
    "# Display image within Jupyter Notebook\n",
    "display(Image(data=jpeg_image))"
   ]
  },
  {
   "cell_type": "markdown",
   "metadata": {},
   "source": [
    "This is our basic method of taking an image and displaying it within Jupyter Notebook.\n",
    "\n",
    "First, we need to initialize our camera, as shown in the first line. When this is done, the image that the camera takes is stored in *camera.value*.\n",
    "\n",
    "Knowing where the image is stored, we can assign that to a variable as shown in the second line. Additionally, this value is stored as a bgr8 file (standing for blue, green, red, 8 bit), and the np.array function basically simplifies the way it is stored (in an easier to understand format).\n",
    "\n",
    "However, to display the image, we need to store it as a jpeg image. Luckily, jetbot has a function for this labeled as bgr8_to_jpeg. By calling this function with the image as an argument, we now have an image stored as a JPEG.\n",
    "\n",
    "Lastly, we need to display the image in Jupyter Notebook. One of the ways we display any outputs is using the display() command. But simply passing jpeg_image to display will print the data as it is stored (with numbers and characters), and not as a picture. Therefore, we need the Image() command, and pass the jpeg_image to the argument data within.\n",
    "\n",
    "This will only output one picture, since the block is only being run once. If we want to continuously output a live feed from the camera, we can implement these features in a loop as shown below."
   ]
  },
  {
   "cell_type": "markdown",
   "metadata": {},
   "source": [
    "<div class=\"alert alert-block alert-info\">\n",
    "Opportunity for Activity\n",
    "</div>"
   ]
  },
  {
   "cell_type": "code",
   "execution_count": null,
   "metadata": {},
   "outputs": [],
   "source": [
    "while True:\n",
    "    clear_output(wait = True)\n",
    "    image = np.array(camera.value)\n",
    "    jpeg_image = bgr8_to_jpeg(image)\n",
    "    display(Image(data = jpeg_image))\n",
    "    time.sleep(0.5)"
   ]
  },
  {
   "cell_type": "markdown",
   "metadata": {},
   "source": [
    "> Note that the time.sleep(0.5) is used to set the frame rate, where a new image is displayed every 0.5 seconds. To make it faster, we can decrease the time within, effectively increasing the frequency at which the image updates.\n",
    "\n",
    "In addition, we now need to include clear_output(wait = True). This command will replace the image below the block, so that it won't constantly display new pictures (You can see the effects of what happens if you remove that command).\n",
    "\n",
    "### Editing/Modifying Images\n",
    "\n",
    "Now for one of the most important part of the lessons for this module, is how to operate computer vision techniques on the images. This will be primarily using opencv, otherwise known as cv2. The code below shows some options for what can be accomplished"
   ]
  },
  {
   "cell_type": "markdown",
   "metadata": {},
   "source": [
    "<div class=\"alert alert-block alert-danger\">\n",
    "You will likely need to interrupt your kernel before you can continue with the square block above (otherwise it will be stuck in the loop).\n",
    "</div>"
   ]
  },
  {
   "cell_type": "code",
   "execution_count": null,
   "metadata": {},
   "outputs": [],
   "source": [
    "def process_and_display_image():\n",
    "    image = np.array(camera.value)\n",
    "    gray_image = cv2.cvtColor(image, cv2.COLOR_RGB2GRAY)\n",
    "    display(Image(data=bgr8_to_jpeg(gray_image)))"
   ]
  },
  {
   "cell_type": "markdown",
   "metadata": {},
   "source": [
    "Similar to before, we must save our image from the camera as a numpy array. But now, we will perform operations on the image before we display them.\n",
    "\n",
    "One such operation is changing the image to grayscale. As seen above, the code takes the image, and modifies it from RGB to Gray. Afterwards, we can display the image (after transforming it to a jpeg) and you will see the image from your camera in gray.\n",
    "\n",
    "Similar to before, we can create a live feed using a loop again."
   ]
  },
  {
   "cell_type": "markdown",
   "metadata": {},
   "source": [
    "<div class=\"alert alert-block alert-info\">\n",
    "Opportunity for Activity\n",
    "</div>"
   ]
  },
  {
   "cell_type": "code",
   "execution_count": null,
   "metadata": {},
   "outputs": [],
   "source": [
    "while True:\n",
    "    clear_output(wait=True)\n",
    "    process_and_display_image()\n",
    "    time.sleep(0.01)"
   ]
  },
  {
   "cell_type": "markdown",
   "metadata": {},
   "source": [
    "Lastly, this can also be accomplished via threading, which allows it to run simultaneousy with other code. But to do it this way, it needs to be in a jupyter notebook widget."
   ]
  },
  {
   "cell_type": "code",
   "execution_count": null,
   "metadata": {},
   "outputs": [],
   "source": [
    "import threading\n",
    "image = widgets.Image(format='jpeg', width=300, height=300)\n",
    "display(image)\n",
    "\n",
    "def update_image():\n",
    "    while True:\n",
    "        image.value = bgr8_to_jpeg(camera.value)\n",
    "        time.sleep(0.01)\n",
    "\n",
    "threading.Thread(target=update_image, daemon=True).start()"
   ]
  },
  {
   "cell_type": "markdown",
   "metadata": {},
   "source": [
    "<div class=\"alert alert-block alert-info\">\n",
    "Will probably need to go more in depth on computer vision and other functions that are possible, but don't really want to do it right now. But likely could look at masking/color detection and edge detection in preparation for next module.\n",
    "</div>"
   ]
  },
  {
   "cell_type": "markdown",
   "metadata": {},
   "source": [
    "### Camera Calibration"
   ]
  },
  {
   "cell_type": "markdown",
   "metadata": {},
   "source": [
    "If you'll notice on the images being displayed, there is quite a bit of distortion in the image. It becomes especially clear if you hold something with a straight edge in front of it, like a piece of paper, the camera completely bends and curves the edge."
   ]
  },
  {
   "cell_type": "code",
   "execution_count": null,
   "metadata": {},
   "outputs": [],
   "source": [
    "\n",
    "# termination criteria\n",
    "criteria = (cv2.TERM_CRITERIA_EPS + cv2.TERM_CRITERIA_MAX_ITER, 30, 0.001)\n",
    "\n",
    "# prepare object points, like (0,0,0), (1,0,0), (2,0,0) ....,(6,5,0)\n",
    "objp = np.zeros((4*7,3), np.float32)\n",
    "objp[:,:2] = np.mgrid[0:7,0:4].T.reshape(-1,2)\n",
    "objp *= 0.035\n",
    "\n",
    "# Arrays to store object points and image points from all the images.\n",
    "objpoints = [] # 3d point in real world space\n",
    "imgpoints = [] # 2d points in image plane.\n",
    "\n",
    "count = 0\n",
    "\n",
    "while count < 10:\n",
    "    clear_output(wait=True)\n",
    "\n",
    "    img = camera.value\n",
    "    gray = cv2.cvtColor(img, cv2.COLOR_BGR2GRAY)\n",
    "\n",
    "    # Find the chess board corners\n",
    "    ret, corners = cv2.findChessboardCorners(gray, (7,4), None)\n",
    "\n",
    "    # If found, add object points, image points (after refining them)\n",
    "    if ret == True:\n",
    "        objpoints.append(objp)\n",
    "\n",
    "        corners2 = cv2.cornerSubPix(gray,corners, (11,11), (-1,-1), criteria)\n",
    "        imgpoints.append(corners2)\n",
    "\n",
    "        # Draw and display the corners\n",
    "        cv2.drawChessboardCorners(img, (7,4), corners2, ret)\n",
    "    display(Image(data=bgr8_to_jpeg(img)))\n",
    "    time.sleep(0.01)\n",
    "\n",
    "\n"
   ]
  },
  {
   "cell_type": "code",
   "execution_count": null,
   "metadata": {},
   "outputs": [],
   "source": [
    "import ipywidgets as widgets\n",
    "from IPython.display import display\n",
    "import threading\n",
    "import time\n",
    "import os\n",
    "\n",
    "# 1. Checkerboard Parameters (inner corners, square size in meters)\n",
    "CHECKERBOARD = (7, 5)  # 7 columns, 5 rows of inner corners\n",
    "SQUARE_SIZE = 0.024  # in meters (e.g., 24mm squares)\n",
    "\n",
    "# termination criteria\n",
    "criteria = (cv2.TERM_CRITERIA_EPS + cv2.TERM_CRITERIA_MAX_ITER, 30, 0.001)\n",
    "\n",
    "# prepare object points, like (0,0,0), (1,0,0), (2,0,0) ....,(6,5,0)\n",
    "objp = np.zeros((CHECKERBOARD[0]*CHECKERBOARD[1],3), np.float32)\n",
    "objp[:,:2] = np.mgrid[0:CHECKERBOARD[0],0:CHECKERBOARD[1]].T.reshape(-1,2)\n",
    "objp *= SQUARE_SIZE\n",
    "\n",
    "# Arrays to store object points and image points from all the images.\n",
    "objpoints = [] # 3d point in real world space\n",
    "imgpoints = [] # 2d points in image plane.\n",
    "\n",
    "# 1. Setup Widgets\n",
    "image = widgets.Image(format='jpeg', width=480, height=360)\n",
    "save_button = widgets.Button(description='📸 Save Image')\n",
    "saved_count = 0\n",
    "status_label = widgets.Label(value='Ready')\n",
    "display(widgets.VBox([image, save_button, status_label]))\n",
    "\n",
    "\n",
    "\n",
    "# 3. Image Update Function (Threaded)\n",
    "def update_image_loop():\n",
    "    while True:\n",
    "        frame = camera.value\n",
    "        gray = cv2.cvtColor(frame, cv2.COLOR_BGR2GRAY)\n",
    "        ret, corners = cv2.findChessboardCorners(gray, CHECKERBOARD, None)\n",
    "        # If found, add object points, image points (after refining them)\n",
    "        if ret == True:\n",
    "            # objpoints.append(objp)\n",
    "\n",
    "            corners2 = cv2.cornerSubPix(gray,corners, (11,11), (-1,-1), criteria)\n",
    "            # imgpoints.append(corners2)\n",
    "\n",
    "            # Draw and display the corners\n",
    "            cv2.drawChessboardCorners(frame, CHECKERBOARD, corners2, ret)\n",
    "            image.value = bgr8_to_jpeg(frame)\n",
    "        time.sleep(0.01)  # control the update rate\n",
    "\n",
    "# 3. Button Callback to Save Image\n",
    "SAVE_DIR = \"calibration_images\"\n",
    "os.makedirs(SAVE_DIR, exist_ok=True)\n",
    "\n",
    "def save_image_callback(b):\n",
    "    global saved_count\n",
    "    if image.value:\n",
    "        filename = f\"image_{saved_count}.jpg\"\n",
    "        filepath = os.path.join(SAVE_DIR, filename)\n",
    "        with open(filepath, 'wb') as f:\n",
    "            f.write(image.value)\n",
    "        status_label.value = f\"✅ Saved {filename}\"\n",
    "        saved_count += 1\n",
    "    else:\n",
    "        status_label.value = \"⚠️ No image available.\"\n",
    "\n",
    "# 4. Connect Callback\n",
    "save_button.on_click(save_image_callback)\n",
    "\n",
    "# 5. Start Image Update Thread (non-blocking)\n",
    "threading.Thread(target=update_image_loop, daemon=True).start()\n"
   ]
  },
  {
   "cell_type": "code",
   "execution_count": null,
   "metadata": {},
   "outputs": [],
   "source": [
    "# 📦 Imports\n",
    "import os\n",
    "import io\n",
    "import numpy as np\n",
    "import cv2\n",
    "from datetime import datetime\n",
    "from PIL import Image\n",
    "import ipywidgets as widgets\n",
    "from IPython.display import display\n",
    "\n",
    "# 📁 Directory to store calibration images\n",
    "SAVE_DIR = \"calib_images\"\n",
    "os.makedirs(SAVE_DIR, exist_ok=True)\n",
    "\n",
    "# 📐 Checkerboard settings (inner corners, square size in meters)\n",
    "CHECKERBOARD = (7, 5)  # 7 columns, 4 rows of inner corners\n",
    "SQUARE_SIZE = 0.024  # in meters (e.g., 24mm squares)\n",
    "\n",
    "# 🎞️ Live image widget (assumes this is being updated elsewhere)\n",
    "image = widgets.Image(format='jpeg', width=480, height=360)\n",
    "\n",
    "# 📸 Save Button\n",
    "save_button = widgets.Button(description=\"📸 Save Image\")\n",
    "save_counter = widgets.Label(value=\"Saved: 0\")\n",
    "saved_count = 0\n",
    "\n",
    "# 💾 Save function\n",
    "def on_save_clicked(b):\n",
    "    global saved_count\n",
    "    if image.value:\n",
    "        filename = f\"calib_{saved_count}.jpg\"\n",
    "        filepath = os.path.join(SAVE_DIR, filename)\n",
    "        with open(filepath, 'wb') as f:\n",
    "            f.write(image.value)\n",
    "        saved_count += 1\n",
    "        save_counter.value = f\"Saved: {saved_count}\"\n",
    "        print(f\"✅ Saved {filepath}\")\n",
    "\n",
    "save_button.on_click(on_save_clicked)\n",
    "\n",
    "# 📺 Display the UI\n",
    "display(widgets.VBox([image, widgets.HBox([save_button, save_counter])]))\n"
   ]
  }
 ],
 "metadata": {
  "kernelspec": {
   "display_name": "Python 3",
   "language": "python",
   "name": "python3"
  },
  "language_info": {
   "codemirror_mode": {
    "name": "ipython",
    "version": 3
   },
   "file_extension": ".py",
   "mimetype": "text/x-python",
   "name": "python",
   "nbconvert_exporter": "python",
   "pygments_lexer": "ipython3",
   "version": "3.13.1"
  }
 },
 "nbformat": 4,
 "nbformat_minor": 2
}
