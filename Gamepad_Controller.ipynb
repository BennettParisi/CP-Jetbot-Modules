{
 "cells": [
  {
   "cell_type": "markdown",
   "id": "e1eb78a4",
   "metadata": {},
   "source": [
    "# Gamepad Controller\n",
    "Here is how you can control your Jetbot with the Gamepad Controller! To function, you need to plug the usb connector for the remote into your computer (not the Jetbot). Then you need to go to the following site at [http://html5gamepad.com/](http://html5gamepad.com/) where you can find the index of the controller. Then change the index in the first block below and run. This should confirm that your controller is properly connected by showing the various buttons and joystick levels."
   ]
  },
  {
   "cell_type": "code",
   "execution_count": null,
   "id": "16717302",
   "metadata": {},
   "outputs": [],
   "source": [
    "import ipywidgets.widgets as widgets\n",
    "\n",
    "controller = widgets.Controller(index=1)  # TODO: replace with index of your controller\n",
    "\n",
    "display(controller)"
   ]
  },
  {
   "cell_type": "markdown",
   "id": "aba2c35d",
   "metadata": {},
   "source": [
    "Once you have connected the controller, run the block below. You should now be able to control the Jetbot. The left stick will move it forward and back, while the right stick will control how much the robot turns left and right."
   ]
  },
  {
   "cell_type": "code",
   "execution_count": null,
   "id": "0bb8ac62",
   "metadata": {},
   "outputs": [],
   "source": [
    "from jetbot import Robot\n",
    "import traitlets\n",
    "\n",
    "robot = Robot()\n",
    "\n",
    "# Speed and turn factor sliders (optional for tuning)\n",
    "max_speed = 0.15\n",
    "max_turn = 0.05\n",
    "\n",
    "\n",
    "def compute_motor_values(change):\n",
    "    forward = -controller.axes[1].value  # Forward/backward\n",
    "    turn = -controller.axes[2].value      # Left/right\n",
    "\n",
    "    speed = forward * max_speed\n",
    "    turn_val = turn * max_turn\n",
    "\n",
    "    # Turning logic: apply turn_val to only one motor\n",
    "    left_motor = speed\n",
    "    right_motor = speed\n",
    "\n",
    "    if turn_val > 0:\n",
    "        # Turning right: reduce left motor\n",
    "        left_motor -= turn_val\n",
    "    elif turn_val < 0:\n",
    "        # Turning left: reduce right motor\n",
    "        right_motor += turn_val  # turn_val is negative\n",
    "\n",
    "#     # Clamp motor values (JetBot max usually ~0.3)\n",
    "#     left_motor = max(min(left_motor, 0.3), -0.3)\n",
    "#     right_motor = max(min(right_motor, 0.3), -0.3)\n",
    "\n",
    "    robot.set_motors(left_motor, right_motor)\n",
    "\n",
    "# Observe changes to joystick axes\n",
    "controller.axes[1].observe(compute_motor_values, names='value')\n",
    "controller.axes[2].observe(compute_motor_values, names='value')\n"
   ]
  }
 ],
 "metadata": {
  "language_info": {
   "name": "python"
  }
 },
 "nbformat": 4,
 "nbformat_minor": 5
}
