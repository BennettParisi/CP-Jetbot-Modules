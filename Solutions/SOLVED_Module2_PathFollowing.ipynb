{
 "cells": [
  {
   "cell_type": "markdown",
   "metadata": {},
   "source": [
    "# Module 2: Path Following and Odometry\n",
    "\n",
    "Here we will use the wheel's angular velocities and our robot commands to create a model for our For reference, they will be printed after running the code below. (You can copy and paste the output into the next part in Module 2), and follow a specified path.\n",
    "\n",
    "This Module should follow Module 1: Basic Motion and Calibration."
   ]
  },
  {
   "cell_type": "markdown",
   "metadata": {},
   "source": [
    "### Modeling: Part 2 <a id=\"Modeling2\"></a>\n",
    "\n",
    "First, let's rerecord the measurements we measured in the first module. Enter your values in the code below. (If you copied the output at the end of Module 1, you can also paste that into this block)."
   ]
  },
  {
   "cell_type": "code",
   "execution_count": null,
   "metadata": {},
   "outputs": [],
   "source": [
    "# TODO: Replace these values with what you found in Module 1\n",
    "diameter = 0.06 # meters\n",
    "length = 0.12 # meters\n",
    "max_speed = 44.062 # rad/s"
   ]
  },
  {
   "cell_type": "markdown",
   "metadata": {},
   "source": [
    "Next, we want to create a model for how our robot moves with this information. In order to accomplish this, we must first make two assumptions to simplify our equations.\n",
    "\n",
    "1. The wheels do not skid (move sideways).\n",
    "2. The wheels never slip.\n",
    "\n",
    "With this, we can find the equations shown below regarding the relations between the angular velocity of the wheels and the velocities of the robot in the world frame.\n",
    "\n",
    "$$\\dot{x}=\\frac{r}{2}\\left(\\omega_{R}+\\omega_{L}\\right)cos\\left(\\theta\\right)\n",
    "\\\\[2ex]\n",
    "\\dot{y}=\\frac{r}{2}\\left(\\omega_{R}+\\omega_{L}\\right)sin\\left(\\theta\\right)\n",
    "\\\\[2ex]\n",
    "\\dot{\\theta}=\\frac{r}{L}\\left(\\omega_{R}-\\omega_{L}\\right)\n",
    "$$\n",
    "\n",
    "The variables ***x*** and ***y*** refers to the coordinates in the world frame that the robot is in, while theta (***$\\theta$***) refers to the orientation of the robot, or which direction it is facing. The dots over the heads indicate that these are the speeds or velocities of these values.\n",
    "\n",
    "We are almost able to calculate the position and orientation of our robot, but it still relies on one last piece of information to calculate. In order to find our place within a frame, we need our previous location and the time since the last position was calculated. These previous positions will be denoted as $x_{n-1}$, $y_{n-1}$, and $\\theta_{n-1}$. The equations are similar to generic rate equations, and are as follows:\n",
    "\n",
    "$$x_n=\\dot{x}\\left(t_n-t_{n-1}\\right)+x_{n-1}\n",
    "\\\\[2ex]\n",
    "y_n=\\dot{y}\\left(t_n-t_{n-1}\\right)+y_{n-1}\n",
    "\\\\[2ex]\n",
    "\\theta_n=\\dot{\\theta}\\left(t_n-t_{n-1}\\right)+\\theta_{n-1}\n",
    "$$\n",
    "\n",
    "Knowing these equations, let's create a program that can keep track and update for our robot! Similar to how the <b><span style=\"color:#154734\">JetBot</span></b> library uses Robot, we are going to implement it as a class, which will make it easier for us to store our coordinates and create functions based on this.\n",
    "\n",
    "First, let's import our modules and initialize some objects/values."
   ]
  },
  {
   "cell_type": "code",
   "execution_count": null,
   "metadata": {},
   "outputs": [],
   "source": [
    "from jetbot import Robot\n",
    "import time\n",
    "import numpy as np\n",
    "from IPython.display import display\n",
    "import ipywidgets as widgets\n",
    "import threading\n",
    "\n",
    "robot = Robot()\n",
    "radius = diameter/2.0\n",
    "stop_event = threading.Event()"
   ]
  },
  {
   "cell_type": "markdown",
   "metadata": {},
   "source": [
    "You should recognize the first two packages from Module 1, but the rest are commonly used libraries for programming that you will see throughout these modules. If you are interested in researching these further, you will see numpy is used for common mathematical functions and values, IPython and ipywidgets are for displaying values in the Jupyter Notebook, and threading is a way to run multiple code lines simultaneously (which will be important when we want to move the <b><span style=\"color:#154734\">JetBot</span></b> and keep track of the position at the same time).\n",
    "\n",
    "Now we want to create a class that will store our coordinates internally and allow us to update our location. The update location will be added as a method, which is basically a function specifically made for a class. It also stores (and initializes) our initial points at all zero."
   ]
  },
  {
   "cell_type": "code",
   "execution_count": null,
   "metadata": {},
   "outputs": [],
   "source": [
    "class Robot_Location():\n",
    "    x = 0.0\n",
    "    y = 0.0\n",
    "    theta = 0.0\n",
    "    t = None\n",
    "    \n",
    "    def update_pose(self):\n",
    "        if self.t is None:\n",
    "            self.t = time.time()\n",
    "        else:\n",
    "            w_R = robot.right_motor.value*max_speed\n",
    "            w_L = robot.left_motor.value*max_speed\n",
    "\n",
    "            x_dot = radius/2*(w_R + w_L)*np.cos(np.deg2rad(self.theta))\n",
    "            y_dot = radius/2*(w_R + w_L)*np.sin(np.deg2rad(self.theta))\n",
    "            theta_dot = np.rad2deg(radius/length*(w_R - w_L))\n",
    "\n",
    "            t_new = time.time()\n",
    "            dt = t_new - self.t\n",
    "            self.x = x_dot*dt + self.x\n",
    "            self.y = y_dot*dt + self.y\n",
    "            self.theta = ((theta_dot*dt + self.theta) + 360) % 360\n",
    "            self.t = t_new"
   ]
  },
  {
   "cell_type": "markdown",
   "metadata": {},
   "source": [
    "### Path Following\n",
    "\n",
    "Now that we have a way of determining position and orientation, we can attempt to create a path that our <b><span style=\"color:#154734\">JetBot</span></b> follows. Our goal will be to drive a variety of directions and record the various positions. To accomplish this task, we must rely on our odometry to continuously run and record its positions, which is why we will create a function that runs with threading, then set a custom program to move the robot in various manners.\n",
    "\n",
    "To test the performance of your odometry, we are first going to create a function that will continuously update the position of our robot. Run the code below so future blocks will recognize the function."
   ]
  },
  {
   "cell_type": "code",
   "execution_count": null,
   "metadata": {},
   "outputs": [],
   "source": [
    "def update_odometry():\n",
    "    global robot_enabled\n",
    "    global x_coords\n",
    "    global y_coords\n",
    "    while not stop_event.is_set():\n",
    "        robot_location.update_pose()\n",
    "        try:\n",
    "            x_widget.value = f\"X: {robot_location.x:.3f}\"\n",
    "            y_widget.value = f\"Y: {robot_location.y:.3f}\"\n",
    "            theta_widget.value = f\"\\u03B8: {robot_location.theta:.3f}°\"\n",
    "        except Exception as e:\n",
    "            pass\n",
    "        if robot_enabled:\n",
    "            x_coords.append(robot_location.x)\n",
    "            y_coords.append(robot_location.y)\n",
    "        time.sleep(0.1)"
   ]
  },
  {
   "cell_type": "markdown",
   "metadata": {},
   "source": [
    "Now, our next cell is where we will run our program that will simultaneously move our <b><span style=\"color:#154734\">JetBot</span></b> and record our position. But what you will need to do is add the various motions that the robot should move. Remember that there are 5 different commands you can call to move the robot.\n",
    "\n",
    "> Move robot forward\n",
    ">\n",
    "> - *robot.forward(speed)*\n",
    ">\n",
    "> Move robot backwards\n",
    ">\n",
    "> - *robot.backward(speed)*\n",
    ">\n",
    "> Rotate left in place\n",
    ">\n",
    "> - *robot.left(speed)*\n",
    ">\n",
    "> Rotate right in place\n",
    ">\n",
    "> - *robot.right(speed)*\n",
    ">\n",
    "> Set custom speeds\n",
    ">\n",
    "> - *robot.set_motors(left_speed, right_speed)*\n",
    "\n",
    "Inside the parentheses is where you should be entering your values. When putting in any values for these speeds, they should remain between **0 and 1**\n",
    "\n",
    "You can also have the robot stop moving, or in other words, setting the motor speeds to zero.\n",
    "\n",
    "> Stop robot from moving\n",
    ">\n",
    "> - *robot.stop()*\n",
    "\n",
    "Additionally, you can also set the time that the movement should run for.\n",
    "\n",
    "> Time delay before next running next line\n",
    ">\n",
    "> - *time.sleep(duration)*\n",
    "\n",
    "To give you an example of how this would be used, the following block would move the robot forward for 1 second at 20% speed, then rotate left at 10% speed for half a second, then stop. You can also see more examples in Module 1.\n",
    "\n",
    "> *robot.forward(0.2)*\n",
    ">\n",
    "> *time.sleep(1.0)*\n",
    ">\n",
    "> *robot.left(0.1)*\n",
    ">\n",
    "> *time.sleep(0.5)*\n",
    ">\n",
    "> robot.stop()\n",
    "\n",
    "You are now going to use these commands to create your own path. Type your own sequence of instructions between the dashed lines, then run the block."
   ]
  },
  {
   "cell_type": "markdown",
   "metadata": {},
   "source": [
    "<div class=\"alert alert-block alert-danger\">\n",
    "<b>WARNING!</b> The <b><span style=\"color:#154734\">JetBot</span></b> will move when you run the following code.\n",
    "</div>"
   ]
  },
  {
   "cell_type": "code",
   "execution_count": null,
   "metadata": {},
   "outputs": [],
   "source": [
    "# Widgets to display coordinates\n",
    "x_widget = widgets.Label(value=\"X: ---\")\n",
    "y_widget = widgets.Label(value=\"Y: ---\")\n",
    "theta_widget = widgets.Label(value=\"\\u03B8: ---\")\n",
    "\n",
    "display(widgets.HBox([x_widget, y_widget, theta_widget]))\n",
    "\n",
    "x_coords = []\n",
    "y_coords = []\n",
    "robot_enabled = False\n",
    "robot_location = Robot_Location()\n",
    "thread = threading.Thread(target=update_odometry, daemon=True)\n",
    "thread.start()\n",
    "\n",
    "# Add your robot path between the two dashed lines!\n",
    "robot_enabled = True\n",
    "# ---------- Start Here ----------\n",
    "robot.forward(0.2)\n",
    "time.sleep(3.0)\n",
    "robot.right(0.1)\n",
    "time.sleep(1.0)\n",
    "robot.backward(0.15)\n",
    "time.sleep(6.0)\n",
    "robot.set_motors(0.3, 0.2)\n",
    "time.sleep(2.0)\n",
    "# ----------- End Here -----------\n",
    "robot.stop()\n",
    "robot_enabled = False\n",
    "\n",
    "stop_event.set()\n",
    "thread.join()\n",
    "stop_event.clear()"
   ]
  },
  {
   "cell_type": "markdown",
   "metadata": {},
   "source": [
    "<div class=\"alert alert-block alert-info\">\n",
    "One good activity would be to see who can create the best star with the plot.\n",
    "</div>"
   ]
  },
  {
   "cell_type": "markdown",
   "metadata": {},
   "source": [
    "You should hopefully be seeing the $X$, $Y$, and $\\theta$ change as it moves. But what does this path actually look like? When you run the following cell, it will create a plot of the recorded points, including a green dot to denote the starting point, and a red dot to denote the ending point. Make sure the motion in the graph matches what the robot followed in real life."
   ]
  },
  {
   "cell_type": "code",
   "execution_count": null,
   "metadata": {},
   "outputs": [],
   "source": [
    "import cv2\n",
    "import numpy as np\n",
    "from IPython.display import Image\n",
    "from jetbot import bgr8_to_jpeg\n",
    "\n",
    "# Find min and max values\n",
    "min_x = int(min(x_coords)) - 1\n",
    "max_x = int(max(x_coords)) + 1\n",
    "min_y = int(min(y_coords)) - 1\n",
    "max_y = int(max(y_coords)) + 1\n",
    "\n",
    "# Blank Image\n",
    "image_width, image_height = 720, 540\n",
    "image = np.ones((image_height, image_width, 3), dtype=np.uint8) * 255  # white background\n",
    "\n",
    "# Padding around the plot area (in pixels)\n",
    "pad = 40\n",
    "plot_width = image_width - 2 * pad\n",
    "plot_height = image_height - 2 * pad\n",
    "\n",
    "# Coordinate Transform\n",
    "def logical_to_image_coords(x, y):\n",
    "    u = int(pad + (x - min_x) / (max_x - min_x) * plot_width)\n",
    "    v = int(pad + (max_y - y) / (max_y - min_y) * plot_height)\n",
    "    return u, v\n",
    "\n",
    "# Axis Location\n",
    "axis_x, axis_y = logical_to_image_coords(0, 0)\n",
    "\n",
    "# Vertical Gridlines\n",
    "for gx in range(min_x, max_x + 1):\n",
    "    if gx != 0:\n",
    "        x, _ = logical_to_image_coords(gx, 0)\n",
    "        cv2.line(image, (x, 0), (x, image_height - 1), (220, 220, 220), 1)\n",
    "        cv2.putText(image, str(gx), (x - 10, axis_y + 15), cv2.FONT_HERSHEY_SIMPLEX, 0.4, (100, 100, 100), 1)\n",
    "\n",
    "# Horizontal Gridlines\n",
    "for gy in range(min_y, max_y + 1):\n",
    "    if gy != 0:\n",
    "        _, y = logical_to_image_coords(0, gy)\n",
    "        cv2.line(image, (0, y), (image_width - 1, y), (220, 220, 220), 1)\n",
    "        cv2.putText(image, str(gy), (axis_x + 5, y + 5), cv2.FONT_HERSHEY_SIMPLEX, 0.4, (100, 100, 100), 1)\n",
    "\n",
    "# Draw Axes\n",
    "x0, y0 = logical_to_image_coords(0, min_y)\n",
    "x1, y1 = logical_to_image_coords(0, max_y)\n",
    "cv2.line(image, (0, axis_y), (image_width - 1, axis_y), (0, 0, 0), 2)\n",
    "\n",
    "\n",
    "x0, y0 = logical_to_image_coords(min_x, 0)\n",
    "x1, y1 = logical_to_image_coords(max_x, 0)\n",
    "cv2.line(image, (axis_x, 0), (axis_x, image_height - 1), (0, 0, 0), 2)\n",
    "\n",
    "for i, (x, y) in enumerate(zip(x_coords, y_coords)):\n",
    "    u, v = logical_to_image_coords(x, y)\n",
    "    if i == 0:\n",
    "        color = (0, 255, 0)    # Green\n",
    "    elif i == len(x_coords) - 1:\n",
    "        color = (0, 0, 255)    # Red\n",
    "    else:\n",
    "        color = (255, 0, 0)    # Blue\n",
    "    cv2.circle(image, (u, v), 5, color, -1)\n",
    "\n",
    "# Save and Display\n",
    "cv2.imwrite('robot_path.jpg', image)\n",
    "display(Image(data=bgr8_to_jpeg(image)))"
   ]
  },
  {
   "cell_type": "markdown",
   "metadata": {},
   "source": [
    "### Bonus Challenge\n",
    "\n",
    "Let's see how well the odometry truly functions. Rather than operating our motors based on time, we will operate based on position. This works by continuously update our odometry to give feedback to our code as to where it is and stop when it reaches the desired position, creating what is known as a closed loop system.\n",
    "\n",
    "To test and compare the performance of your odometry, place a stop sign a certain distance away (anywhere from 2-5 meters) and see how accurate it is to stopping right in front of the sign you placed. The code below will test this performance, only the distance needs to be updated based on your environment."
   ]
  },
  {
   "cell_type": "code",
   "execution_count": null,
   "metadata": {},
   "outputs": [],
   "source": [
    "# TODO: Update distance here\n",
    "target_distance = 2.0 # meters\n",
    "\n",
    "# Widgets to display coordinates\n",
    "x_widget = widgets.Label(value=\"X: ---\")\n",
    "y_widget = widgets.Label(value=\"Y: ---\")\n",
    "theta_widget = widgets.Label(value=\"\\u03B8: ---\")\n",
    "\n",
    "display(widgets.HBox([x_widget, y_widget, theta_widget]))\n",
    "\n",
    "robot_location = Robot_Location()\n",
    "\n",
    "\n",
    "while(True):\n",
    "    robot_location.update_pose\n",
    "    robot.set_motors(.2, .2)\n",
    "    x_widget.value = f\"X: {robot_location.x:.2f}\"\n",
    "    y_widget.value = f\"Y: {robot_location.y:.2f}\"\n",
    "    theta_widget.value = f\"\\u03B8: {robot_location.theta:.2f}°\"\n",
    "    if robot_location.x >= target_distance:\n",
    "        robot.stop()\n",
    "        break\n",
    "    time.sleep(0.02)"
   ]
  },
  {
   "cell_type": "markdown",
   "metadata": {},
   "source": [
    "Hopefully, you should see that it stops right before the sign!\n",
    "\n",
    "If you need to force it to stop, hit the square at the top to interrupt the kernel, then running the following code to make your robot stop."
   ]
  },
  {
   "cell_type": "code",
   "execution_count": null,
   "metadata": {},
   "outputs": [],
   "source": [
    "robot.stop()"
   ]
  }
 ],
 "metadata": {
  "kernelspec": {
   "display_name": "Python 3",
   "language": "python",
   "name": "python3"
  },
  "language_info": {
   "codemirror_mode": {
    "name": "ipython",
    "version": 3
   },
   "file_extension": ".py",
   "mimetype": "text/x-python",
   "name": "python",
   "nbconvert_exporter": "python",
   "pygments_lexer": "ipython3",
   "version": "3.13.1"
  }
 },
 "nbformat": 4,
 "nbformat_minor": 2
}
