{
 "cells": [
  {
   "cell_type": "markdown",
   "metadata": {},
   "source": [
    "# Module 2: Path Following\n",
    "\n",
    "Here we will use the wheel's angular velocities and our robot commands to create a model for our robot, and follow a specified path. This Module should follow Module 1: Motion."
   ]
  },
  {
   "cell_type": "markdown",
   "metadata": {},
   "source": [
    "### Modeling: Part 2 <a id=\"Modeling2\"></a>"
   ]
  },
  {
   "cell_type": "markdown",
   "metadata": {},
   "source": [
    "First, let's rerecord the measurements we measured in the first module. Enter your values in the code below. (If you copied the output at the end of Module 1, you can also paste that into this block)."
   ]
  },
  {
   "cell_type": "code",
   "execution_count": null,
   "metadata": {},
   "outputs": [],
   "source": [
    "diameter = 1.00\n",
    "length = 1.50\n",
    "max_speed = 4.000"
   ]
  },
  {
   "cell_type": "markdown",
   "metadata": {},
   "source": [
    "Next, we want to create a model for how our robot moves with this information. "
   ]
  }
 ],
 "metadata": {
  "language_info": {
   "name": "python"
  }
 },
 "nbformat": 4,
 "nbformat_minor": 2
}
