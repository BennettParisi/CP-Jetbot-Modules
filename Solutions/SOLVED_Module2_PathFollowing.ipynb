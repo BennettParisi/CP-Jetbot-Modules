{
 "cells": [
  {
   "cell_type": "markdown",
   "metadata": {},
   "source": [
    "# Module 2: Path Following and Odometry\n",
    "\n",
    "Here we will use the wheel's angular velocities and our robot commands to create a model for our For reference, they will be printed after running the code below. (You can copy and paste the output into the next part in Module 2), and follow a specified path.\n",
    "\n",
    "This Module should follow Module 1: Basic Motion and Calibration."
   ]
  },
  {
   "cell_type": "markdown",
   "metadata": {},
   "source": [
    "### Modeling: Part 2 <a id=\"Modeling2\"></a>\n",
    "\n",
    "First, let's rerecord the measurements we measured in the first module. Enter your values in the code below. (If you copied the output at the end of Module 1, you can also paste that into this block)."
   ]
  },
  {
   "cell_type": "code",
   "execution_count": null,
   "metadata": {},
   "outputs": [],
   "source": [
    "# TODO: Replace these values with what you found in Module 1\n",
    "diameter = 0.06 # meters\n",
    "length = 0.12 # meters\n",
    "max_speed = 44.062 # rad/s"
   ]
  },
  {
   "cell_type": "markdown",
   "metadata": {},
   "source": [
    "Next, we want to create a model for how our robot moves with this information. In order to accomplish this, we must first make two assumptions to simplify our equations.\n",
    "\n",
    "1. The wheels do not skid (move sideways).\n",
    "2. The wheels never slip.\n",
    "\n",
    "With this, we can find the equations shown below regarding the relations between the angular velocity of the wheels and the velocities of the robot in the world frame.\n",
    "\n",
    "$$\\dot{x}=\\frac{r}{2}\\left(\\omega_{R}+\\omega_{L}\\right)cos\\left(\\theta\\right)\n",
    "\\\\[2ex]\n",
    "\\dot{y}=\\frac{r}{2}\\left(\\omega_{R}+\\omega_{L}\\right)sin\\left(\\theta\\right)\n",
    "\\\\[2ex]\n",
    "\\dot{\\theta}=\\frac{r}{L}\\left(\\omega_{R}-\\omega_{L}\\right)\n",
    "$$\n",
    "\n",
    "The variables ***x*** and ***y*** refers to the coordinates in the world frame that the robot is in, while theta (***$\\theta$***) refers to the orientation of the robot, or which direction it is facing. The dots over the heads indicate that these are the speeds or velocities of these values.\n",
    "\n",
    "We are almost able to calculate the position and orientation of our robot, but it still relies on one last piece of information to calculate. In order to find our place within a frame, we need our previous location and the time since the last position was calculated. These previous positions will be denoted as $x_{n-1}$, $y_{n-1}$, and $\\theta_{n-1}$. The equations are similar to generic rate equations, and are as follows:\n",
    "\n",
    "$$x_n=\\dot{x}\\left(t_n-t_{n-1}\\right)+x_{n-1}\n",
    "\\\\[2ex]\n",
    "y_n=\\dot{y}\\left(t_n-t_{n-1}\\right)+y_{n-1}\n",
    "\\\\[2ex]\n",
    "\\theta_n=\\dot{\\theta}\\left(t_n-t_{n-1}\\right)+\\theta_{n-1}\n",
    "$$\n",
    "\n",
    "Let's try out using these equations in a function now!\n",
    "\n",
    "First, let's import our modules and initialize our robot."
   ]
  },
  {
   "cell_type": "code",
   "execution_count": null,
   "metadata": {},
   "outputs": [],
   "source": [
    "from jetbot import Robot\n",
    "import time\n",
    "import numpy as np\n",
    "\n",
    "robot = Robot()\n",
    "radius = diameter/2.0\n",
    "\n",
    "curr_x = 0.0\n",
    "curr_y = 0.0\n",
    "curr_theta = 0\n",
    "curr_time = None"
   ]
  },
  {
   "cell_type": "markdown",
   "metadata": {},
   "source": [
    "Next, we will create the function to update our location whenever we call it."
   ]
  },
  {
   "cell_type": "markdown",
   "metadata": {},
   "source": [
    "<div class=\"alert alert-block alert-info\">\n",
    "Opportunity for Activity\n",
    "</div>"
   ]
  },
  {
   "cell_type": "code",
   "execution_count": null,
   "metadata": {},
   "outputs": [],
   "source": [
    "def update_pose(x, y, theta, t_prev):\n",
    "    if t_prev is None:\n",
    "        t_new = time.time()\n",
    "        return (0.0, 0.0, 0, t_new)\n",
    "    else:\n",
    "        w_R = robot.right_motor.value*robot.max_speed\n",
    "        w_L = robot.left_motor.value*robot.max_speed\n",
    "\n",
    "        # TODO: Write the lines for these variables using the equations above\n",
    "        # Note that you can use np.sin and np.cos for the trigonometric functions\n",
    "        x_dot = radius/2*(w_R + w_L)*np.cos(theta)\n",
    "        y_dot = radius/2*(w_R + w_L)*np.sin(theta)\n",
    "        theta_dot = int(np.rad2deg(radius/length*(w_R - w_L)))\n",
    "\n",
    "        t_new = time.time()\n",
    "        dt = t_new - t_prev\n",
    "        x_new = x_dot*dt + curr_x\n",
    "        y_new = y_dot*dt + curr_y\n",
    "        theta_new = ((theta_dot*dt + curr_theta) + 360) % 360\n",
    "        return (x_new, y_new, theta_new, t_new)"
   ]
  },
  {
   "cell_type": "markdown",
   "metadata": {},
   "source": [
    "### Path Following\n",
    "\n",
    "Now that we have a way of determining position and orientation, we can attempt to create a path that our <b><span style=\"color:#154734\">JetBot</span></b> follows. Our goal will be to drive a certain distance and stop once it reaches this. To accomplish this task, we must rely on our odometry to give feedback to our code as to where it is and stop when it reaches the desired position. This will create what is known as a closed loop system, where we have feedback from the robot helping us determine our motor commands.\n",
    "\n",
    "To test the performance of your odometry, place one of the stop signs a certain distance away (anywhere from 2-5 meters) and see how accurate it is to stopping right in front of the sign you placed. The code below will test this performance, only the distance needs to be updated based on your environment."
   ]
  },
  {
   "cell_type": "markdown",
   "metadata": {},
   "source": [
    "<div class=\"alert alert-block alert-danger\">\n",
    "<b>WARNING!</b> The <b><span style=\"color:#154734\">JetBot</span></b> will move when you run the following code.\n",
    "</div>"
   ]
  },
  {
   "cell_type": "code",
   "execution_count": null,
   "metadata": {},
   "outputs": [],
   "source": [
    "target_distance = 2.0 # meters\n",
    "\n",
    "while(True):\n",
    "    curr_x, curr_y, curr_theta, curr_time = update_pose(curr_x, curr_y, curr_theta, curr_time)\n",
    "    robot.set_motors(.2, .2)\n",
    "    dist_travelled = np.sqrt(np.square(curr_x) + np.square(curr_y))\n",
    "    if dist_travelled >= target_distance:\n",
    "        robot.stop()\n",
    "        break\n",
    "    time.sleep(0.02)"
   ]
  },
  {
   "cell_type": "markdown",
   "metadata": {},
   "source": [
    "Hopefully, you should see that it stops right before the sign!\n",
    "\n",
    "If you need to force it to stop, hit the square up top to interrupt the kernel, then running the following code to make your robot stop."
   ]
  },
  {
   "cell_type": "code",
   "execution_count": null,
   "metadata": {},
   "outputs": [],
   "source": [
    "robot.stop()"
   ]
  }
 ],
 "metadata": {
  "kernelspec": {
   "display_name": "Python 3",
   "language": "python",
   "name": "python3"
  },
  "language_info": {
   "codemirror_mode": {
    "name": "ipython",
    "version": 3
   },
   "file_extension": ".py",
   "mimetype": "text/x-python",
   "name": "python",
   "nbconvert_exporter": "python",
   "pygments_lexer": "ipython3",
   "version": "3.13.1"
  }
 },
 "nbformat": 4,
 "nbformat_minor": 2
}
