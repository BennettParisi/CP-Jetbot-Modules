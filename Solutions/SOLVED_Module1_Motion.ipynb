{
 "cells": [
  {
   "cell_type": "markdown",
   "metadata": {},
   "source": [
    "# Module 1: Basic Motion and Calibration\n",
    "\n",
    "Here we will see how the <b><span style=\"color:#154734\">JetBot</span></b> moves.\n",
    "\n",
    "This Module should follow Module 0: Setup and Jupyter Notebooks."
   ]
  },
  {
   "cell_type": "markdown",
   "metadata": {},
   "source": [
    "### Basic Motion\n",
    "\n",
    "Whenever we start, we must always import the necessary modules and packages to interface with the <b><span style=\"color:#154734\">JetBot</span></b>."
   ]
  },
  {
   "cell_type": "code",
   "execution_count": 34,
   "metadata": {},
   "outputs": [],
   "source": [
    "from jetbot import Robot\n",
    "import time"
   ]
  },
  {
   "cell_type": "code",
   "execution_count": 35,
   "metadata": {},
   "outputs": [],
   "source": [
    "robot = Robot()"
   ]
  },
  {
   "cell_type": "markdown",
   "metadata": {},
   "source": [
    "The following code will show how the <b><span style=\"color:#154734\">JetBot</span></b> motors are controlled and how to stop them."
   ]
  },
  {
   "cell_type": "markdown",
   "metadata": {},
   "source": [
    "<div class=\"alert alert-block alert-danger\">\n",
    "<b>WARNING!</b> The <b><span style=\"color:#154734\">JetBot</span></b> will move when you run the following blocks.\n",
    "</div>"
   ]
  },
  {
   "cell_type": "code",
   "execution_count": null,
   "metadata": {},
   "outputs": [],
   "source": [
    "robot.left(0.3)\n",
    "time.sleep(1.0)\n",
    "robot.stop()"
   ]
  },
  {
   "cell_type": "markdown",
   "metadata": {},
   "source": [
    "As can be seen, this is done by rotating the left and right wheels in opposite direction at the same speed. However, this can also be accomplished by setting the motors to opposite speeds, as seen below."
   ]
  },
  {
   "cell_type": "code",
   "execution_count": 37,
   "metadata": {},
   "outputs": [],
   "source": [
    "robot.set_motors(0.3, -0.3)\n",
    "time.sleep(1.0)\n",
    "robot.stop()"
   ]
  },
  {
   "cell_type": "markdown",
   "metadata": {},
   "source": [
    "Our robot is a Two-Wheel Differential Drive vehicle, meaning each wheel can be controlled independently. The following block shows an example of how this can be applied on the <b><span style=\"color:#154734\">JetBot</span></b>."
   ]
  },
  {
   "cell_type": "code",
   "execution_count": 38,
   "metadata": {},
   "outputs": [],
   "source": [
    "robot.set_motors(0.5, 0.3)\n",
    "time.sleep(1.0)\n",
    "robot.stop()"
   ]
  },
  {
   "cell_type": "markdown",
   "metadata": {},
   "source": [
    "In addition, we want to be able to determine where our <b><span style=\"color:#154734\">JetBot</span></b> is based on how far it has moved.\n",
    "\n",
    "This can be done by taking the current speed and the time it is at that speed, to calculate the distance moved (think distance = rate*time) In this next section, we will discuss the beginning of how to create this model for the <b><span style=\"color:#154734\">JetBot</span></b>, first by calibrating the speed of the wheels."
   ]
  },
  {
   "cell_type": "markdown",
   "metadata": {},
   "source": [
    "### Modeling: Part 1 <a id=\"Modeling1\"></a>\n",
    "\n",
    "Before we can calculate or create any model for the <b><span style=\"color:#154734\">JetBot</span></b>, we must first calibrate the wheels. The values we send to the <b><span style=\"color:#154734\">JetBot</span></b> in our commands refer to the percentage of our max angular speed that the wheels operate at, or in other words, how quickly they spin. For example, below we are sending the forward command with a value of 0.2, meaning that the wheels will travel at 20% of their max rotation speed."
   ]
  },
  {
   "cell_type": "code",
   "execution_count": 39,
   "metadata": {},
   "outputs": [],
   "source": [
    "robot.forward(0.2)\n",
    "time.sleep(1.0)\n",
    "robot.stop()"
   ]
  },
  {
   "cell_type": "markdown",
   "metadata": {},
   "source": [
    "First, let's measure some of the parts of our <b><span style=\"color:#154734\">JetBot</span></b>. In particular, we want to measure the diameter of wheels and the length between them.\n",
    "\n",
    "When measuring the diameter, make sure to measure from the outside of one part of the wheel to the outside of another part of the wheel, with the ruler passing through the center of the wheel.\n",
    "\n",
    "When measuring the length, make sure to measure between the middle of each wheel.\n",
    "\n",
    "Record your measurements below (in meters and with three digits following the decimal point)."
   ]
  },
  {
   "cell_type": "markdown",
   "metadata": {},
   "source": [
    "<div class=\"alert alert-block alert-info\">\n",
    "Values need to be modified to be blank or some prompt.\n",
    "</div>"
   ]
  },
  {
   "cell_type": "code",
   "execution_count": null,
   "metadata": {},
   "outputs": [],
   "source": [
    "# TODO: Set diameter equal to diameter of wheels measured\n",
    "diameter = .064 # meters\n",
    "# TODO: Set length equal to distance measured between the middles of each wheel\n",
    "length = .119 # meters"
   ]
  },
  {
   "cell_type": "markdown",
   "metadata": {},
   "source": [
    "Next, let's create a small lane for our <b><span style=\"color:#154734\">JetBot</span></b> to travel forward in. Now we will place a meterstick next to the robot in a way that will allow us to measure the distance the <b><span style=\"color:#154734\">JetBot</span></b> travels. This should mean that the 0 end of the stick is next to the <b><span style=\"color:#154734\">JetBot</span></b> (preferably in line with the axle), and extending in the same direction the robot is facing.\n",
    "\n",
    "Now that we have set up our measuring tool, we will run the following code, and see the distance the <b><span style=\"color:#154734\">JetBot</span></b> travels. Make sure to record the distance travelled (in meters and with three digits following the decimal point)."
   ]
  },
  {
   "cell_type": "code",
   "execution_count": null,
   "metadata": {},
   "outputs": [],
   "source": [
    "test_speed = 0.2\n",
    "robot.forward(test_speed)\n",
    "init_time = time.time()\n",
    "time.sleep(1.0)\n",
    "robot.stop()\n",
    "end_time = time.time()"
   ]
  },
  {
   "cell_type": "markdown",
   "metadata": {},
   "source": [
    "Now add the distance to the code below to determine the speed of our wheels."
   ]
  },
  {
   "cell_type": "markdown",
   "metadata": {},
   "source": [
    "<div class=\"alert alert-block alert-info\">\n",
    "Values need to be modified to be blank or some prompt.\n",
    "</div>"
   ]
  },
  {
   "cell_type": "code",
   "execution_count": null,
   "metadata": {},
   "outputs": [],
   "source": [
    "# TODO: Set the variable distance_travelled equal to the distance you measured\n",
    "distance_travelled = .282 # meters"
   ]
  },
  {
   "cell_type": "markdown",
   "metadata": {},
   "source": [
    "Using this value we can now extrapolate the max speed of our wheels. Run the following code, which should print out the max speed below."
   ]
  },
  {
   "cell_type": "code",
   "execution_count": null,
   "metadata": {},
   "outputs": [],
   "source": [
    "max_speed = distance_travelled*(end_time - init_time)/(diameter/2.0*test_speed) # rad/s\n",
    "display(max_speed)"
   ]
  },
  {
   "cell_type": "markdown",
   "metadata": {},
   "source": [
    "Note that the max speed is measured in rad/s. Keep track of your radius, length, and max_speed variables. These will be used in future modules.\n",
    "\n",
    "For reference, they will be printed after running the code below. (You can copy and paste the output into the next part in Module 2)"
   ]
  },
  {
   "cell_type": "code",
   "execution_count": null,
   "metadata": {},
   "outputs": [],
   "source": [
    "print(\"diameter = %.3f # meters\" % diameter)\n",
    "print(\"length = %.3f # meters\" % length)\n",
    "print(\"max_speed = %.3f # rad/s\" % max_speed)"
   ]
  },
  {
   "cell_type": "code",
   "execution_count": null,
   "metadata": {},
   "outputs": [],
   "source": [
    "robot.stop()"
   ]
  }
 ],
 "metadata": {
  "kernelspec": {
   "display_name": "Python 3",
   "language": "python",
   "name": "python3"
  },
  "language_info": {
   "codemirror_mode": {
    "name": "ipython",
    "version": 3
   },
   "file_extension": ".py",
   "mimetype": "text/x-python",
   "name": "python",
   "nbconvert_exporter": "python",
   "pygments_lexer": "ipython3",
   "version": "3.13.1"
  }
 },
 "nbformat": 4,
 "nbformat_minor": 2
}
