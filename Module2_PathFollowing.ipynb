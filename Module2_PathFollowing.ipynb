{
 "cells": [
  {
   "cell_type": "markdown",
   "metadata": {},
   "source": [
    "# Module 2: Path Following\n",
    "\n",
    "Here we will use the wheel's angular velocities and our robot commands to create a model for our <span style=\"color:#154734\">Jetbot</span>, and follow a specified path.\n",
    "\n",
    "This Module should follow Module 1: Motion."
   ]
  },
  {
   "cell_type": "markdown",
   "metadata": {},
   "source": [
    "### Modeling: Part 2 <a id=\"Modeling2\"></a>"
   ]
  },
  {
   "cell_type": "markdown",
   "metadata": {},
   "source": [
    "First, let's rerecord the measurements we measured in the first module. Enter your values in the code below. (If you copied the output at the end of Module 1, you can also paste that into this block)."
   ]
  },
  {
   "cell_type": "code",
   "execution_count": null,
   "metadata": {},
   "outputs": [],
   "source": [
    "diameter = 0.06 # meters\n",
    "length = 0.12 # meters\n",
    "max_speed = 44.062 # rad/s"
   ]
  },
  {
   "cell_type": "markdown",
   "metadata": {},
   "source": [
    "Next, we want to create a model for how our robot moves with this information. In order to accomplish this, we must first make two assumptions to simplify our equations.\n",
    "\n",
    "1. The wheels do not skid (move sideways).\n",
    "2. The wheels never slip.\n",
    "\n",
    "With this, we can find the equations shown below regarding the relations between the angular velocity of the wheels and the velocities of the robot in the world frame."
   ]
  },
  {
   "cell_type": "markdown",
   "metadata": {
    "vscode": {
     "languageId": "latex"
    }
   },
   "source": [
    "$$\\dot{x}=\\frac{r}{2}\\left(\\omega_{R}+\\omega_{L}\\right)cos\\left(\\theta\\right)\n",
    "\\\\[2ex]\n",
    "\\dot{y}=\\frac{r}{2}\\left(\\omega_{R}+\\omega_{L}\\right)sin\\left(\\theta\\right)\n",
    "\\\\[2ex]\n",
    "\\dot{\\theta}=\\frac{r}{L}\\left(\\omega_{R}-\\omega_{L}\\right)\n",
    "$$"
   ]
  },
  {
   "cell_type": "markdown",
   "metadata": {},
   "source": [
    "The variables ***x*** and ***y*** refers to the coordinates in the world frame that the robot is in, while theta (***$\\theta$***) refers to the orientation of the robot, or which direction it is facing. The dots over the heads indicate that these are the speeds or velocities of these values."
   ]
  },
  {
   "cell_type": "markdown",
   "metadata": {},
   "source": [
    "We are almost able to calculate the position and orientation of our robot, but it still relies on one last piece of information to calculate. In order to find our place within a frame, we need our previous location and the time since the last position was calculated. These previous positions will be denoted as $x_{n-1}$, $y_{n-1}$, and $\\theta_{n-1}$. The equations are similar to generic rate equations, and are as follows:"
   ]
  },
  {
   "cell_type": "markdown",
   "metadata": {},
   "source": [
    "$$x_n=\\dot{x}\\left(t_n-t_{n-1}\\right)+x_{n-1}\n",
    "\\\\[2ex]\n",
    "y_n=\\dot{y}\\left(t_n-t_{n-1}\\right)+y_{n-1}\n",
    "\\\\[2ex]\n",
    "\\theta_n=\\dot{\\theta}\\left(t_n-t_{n-1}\\right)+\\theta_{n-1}\n",
    "$$"
   ]
  },
  {
   "cell_type": "markdown",
   "metadata": {},
   "source": [
    "Let's try out using these equations in a function now!"
   ]
  },
  {
   "cell_type": "markdown",
   "metadata": {},
   "source": [
    "First, let's import our modules and initialize our robot."
   ]
  },
  {
   "cell_type": "code",
   "execution_count": 2,
   "metadata": {},
   "outputs": [],
   "source": [
    "from jetbot import Robot\n",
    "import time\n",
    "import numpy as np\n",
    "\n",
    "robot = Robot()\n",
    "robot.diameter = diameter\n",
    "robot.length = length\n",
    "robot.max_speed = max_speed\n",
    "\n",
    "curr_x = 0.0\n",
    "curr_y = 0.0\n",
    "curr_theta = 0\n",
    "curr_time = None"
   ]
  },
  {
   "cell_type": "markdown",
   "metadata": {},
   "source": [
    "Next, we will create the function to update our location whenever we call it."
   ]
  },
  {
   "cell_type": "markdown",
   "metadata": {},
   "source": [
    "<div class=\"alert alert-block alert-info\">\n",
    "Opportunity for Activity\n",
    "</div>"
   ]
  },
  {
   "cell_type": "code",
   "execution_count": null,
   "metadata": {},
   "outputs": [],
   "source": [
    "def update_loc(curr_x, curr_y, curr_theta, curr_time):\n",
    "    if curr_time is None:\n",
    "        curr_time = time.time()\n",
    "        return (0.0, 0.0, 0, curr_time)\n",
    "    else:\n",
    "        x_dot = (diameter/2)/2*(robot.right_motor.value*max_speed + robot.left_motor.value*max_speed)*np.cos(curr_theta)\n",
    "        y_dot = (diameter/2)/2*(robot.right_motor.value*max_speed + robot.left_motor.value*max_speed)*np.sin(curr_theta)\n",
    "        theta_dot = int(np.rad2deg((diameter/2)/length*(robot.right_motor.value*max_speed - robot.left_motor.value*max_speed)))\n",
    "        new_time = time.time()\n",
    "        time_diff = new_time - curr_time\n",
    "        curr_x = x_dot*(time_diff) + curr_x\n",
    "        curr_y = y_dot*(time_diff) + curr_y\n",
    "        curr_theta = ((theta_dot*(time_diff) + curr_theta) + 360) % 360\n",
    "        curr_time = new_time\n",
    "        return (curr_x, curr_y, curr_theta, curr_time)"
   ]
  },
  {
   "cell_type": "markdown",
   "metadata": {},
   "source": [
    "<div class=\"alert alert-block alert-danger\">\n",
    "Note this code will not actually work, but instead must be implemented in the Robot class in the Jetbot folder.\n",
    "</div>"
   ]
  },
  {
   "cell_type": "markdown",
   "metadata": {},
   "source": [
    "Go to the robot.py file and add your code to the update_loc method within."
   ]
  },
  {
   "cell_type": "markdown",
   "metadata": {},
   "source": [
    "### Path Following"
   ]
  },
  {
   "cell_type": "markdown",
   "metadata": {},
   "source": [
    "Now that we have a way of determining position and orientation, we can attempt to create a path that the robot follows. Our goal will be to drive in a square that has sides of 1 meter. To accomplish this task, we must rely on our odometry to give feedback to our code as to where it is. This will create what is known as a closed loop system, where we have feedback from the robot helping us determine our motor commands."
   ]
  },
  {
   "cell_type": "markdown",
   "metadata": {},
   "source": [
    "Since we want this to run continuously until we're finished, we are going to create a button below that stops when we are ready. The code itself is not particularly important, but you do need to run it to initialize the button."
   ]
  },
  {
   "cell_type": "markdown",
   "metadata": {},
   "source": [
    "<div class=\"alert alert-block alert-warning\">\n",
    "<b>FIX LATER</b>\n",
    "</div>"
   ]
  },
  {
   "cell_type": "code",
   "execution_count": null,
   "metadata": {},
   "outputs": [],
   "source": [
    "# import ipywidgets.widgets as widgets\n",
    "# from IPython.display import display\n",
    "\n",
    "# button_layout = widgets.Layout(width='100px', height='80px', align_self='center')\n",
    "# stop_button = widgets.Button(description='stop', button_style='danger', layout=button_layout)\n",
    "# button = widgets.HBox([stop_button], layout=widgets.Layout(align_self='center'))\n",
    "# display(button)\n",
    "# run_flag = True\n",
    "# def stop(change):\n",
    "#     global run_flag\n",
    "#     run_flag = False\n",
    "\n",
    "# stop_button.on_click(stop)"
   ]
  },
  {
   "cell_type": "markdown",
   "metadata": {},
   "source": [
    "Now, we will create a while loop that will run continuously our code to make the robot drive in a square."
   ]
  },
  {
   "cell_type": "markdown",
   "metadata": {},
   "source": [
    "<div class=\"alert alert-block alert-info\">\n",
    "Opportunity for Activity\n",
    "</div>"
   ]
  },
  {
   "cell_type": "code",
   "execution_count": null,
   "metadata": {},
   "outputs": [],
   "source": [
    "turning = False\n",
    "angles = [0, 90, 180, 270, 360]\n",
    "i_angles = 1\n",
    "\n",
    "init_coords = (0.0, 0.0)\n",
    "coords = [(1, 0), (1, 1), (0, 1), (0, 0)]\n",
    "i_coords = 0\n",
    "\n",
    "while(True):\n",
    "    if turning:\n",
    "        robot.set_motors(-.1, .1)\n",
    "        curr_x, curr_y, curr_theta, curr_time = update_loc(curr_x, curr_y, curr_theta, curr_time)\n",
    "        if curr_theta > angles[i_angles] and curr_theta < angles[i_angles + 1]:\n",
    "            curr_x, curr_y, curr_theta, curr_time = update_loc(curr_x, curr_y, curr_theta, curr_time)\n",
    "            robot.stop()\n",
    "            turning = not turning\n",
    "            i_angles += 1\n",
    "            if i_angles > 3:\n",
    "                i_angles = 0\n",
    "            init_coords = (curr_x, curr_y)\n",
    "    else:\n",
    "        robot.set_motors(.1, .1)\n",
    "        curr_x, curr_y, curr_theta, curr_time = update_loc(curr_x, curr_y, curr_theta, curr_time)\n",
    "        dist_travelled = np.sqrt(np.square(curr_x - init_coords[0]) + np.square(curr_y - init_coords[1]))\n",
    "        if dist_travelled >= 1:\n",
    "            curr_x, curr_y, curr_theta, curr_time = update_loc(curr_x, curr_y, curr_theta, curr_time)\n",
    "            robot.stop()\n",
    "            turning = not turning"
   ]
  },
  {
   "cell_type": "markdown",
   "metadata": {},
   "source": [
    "Now your robot should be moving in a square!"
   ]
  },
  {
   "cell_type": "code",
   "execution_count": null,
   "metadata": {},
   "outputs": [],
   "source": [
    "robot.stop()"
   ]
  }
 ],
 "metadata": {
  "kernelspec": {
   "display_name": "Python 3",
   "language": "python",
   "name": "python3"
  },
  "language_info": {
   "codemirror_mode": {
    "name": "ipython",
    "version": 3
   },
   "file_extension": ".py",
   "mimetype": "text/x-python",
   "name": "python",
   "nbconvert_exporter": "python",
   "pygments_lexer": "ipython3",
   "version": "3.13.1"
  }
 },
 "nbformat": 4,
 "nbformat_minor": 2
}
