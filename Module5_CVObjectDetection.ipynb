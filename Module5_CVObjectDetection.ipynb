{
 "cells": [
  {
   "cell_type": "markdown",
   "metadata": {},
   "source": [
    "# Module 5: Road Sign Detection\n",
    "\n",
    "While being able to detect AprilTags are very useful, there aren't AprilTags located beneath road signs on actual roads. Therefore, we want to use the concepts of what we applied in Module 4, along with the computer vision techniques we learned in Module 3, to detect the road signs by looking at both their shape and color.\n",
    "\n",
    "This module should follow Module 4: AprilTags"
   ]
  },
  {
   "cell_type": "markdown",
   "metadata": {},
   "source": [
    "You know the drill."
   ]
  },
  {
   "cell_type": "code",
   "execution_count": null,
   "metadata": {},
   "outputs": [],
   "source": [
    "from jetbot import Robot, Camera, bgr8_to_jpeg\n",
    "import cv2\n",
    "import numpy as np\n",
    "from IPython.display import display, Image, clear_output\n",
    "import time\n",
    "\n",
    "robot = Robot()\n",
    "camera = Camera.instance()"
   ]
  },
  {
   "cell_type": "code",
   "execution_count": null,
   "metadata": {},
   "outputs": [],
   "source": [
    "while True:\n",
    "\n",
    "    clear_output(wait = True)\n",
    "    orig_image = np.array(camera.value)\n",
    "    image = orig_image\n",
    "\n",
    "    # Convert to HSV (Hue, Saturation, Value) color space\n",
    "    hsv = cv2.cvtColor(image, cv2.COLOR_BGR2HSV)\n",
    "\n",
    "    # TODO: Change the values of these.\n",
    "    # Define range of red color in HSV space\n",
    "    lower_red1 = np.array([0, 120, 70])\n",
    "    upper_red1 = np.array([10, 255, 255])\n",
    "    lower_red2 = np.array([170, 120, 70])\n",
    "    upper_red2 = np.array([180, 255, 255])\n",
    "\n",
    "    # Create a mask for red color\n",
    "    mask1 = cv2.inRange(hsv, lower_red1, upper_red1)\n",
    "    mask2 = cv2.inRange(hsv, lower_red2, upper_red2)\n",
    "    mask = mask1 | mask2\n",
    "\n",
    "    # Apply the mask to the image\n",
    "    red_traffic_signs = cv2.bitwise_and(image, image, mask=mask)\n",
    "\n",
    "    # Dilate image to get rid of white stop\n",
    "    dilated_image = cv2.dilate(red_traffic_signs, np.ones((5, 5), np.uint8), iterations = 2)\n",
    "    eroded_image = cv2.erode(dilated_image, np.ones((5, 5), np.uint8))\n",
    "\n",
    "    # # Define the sharpening kernel\n",
    "    # kernel = np.array([[-1, -1, -1],\n",
    "    #                 [-1, 9, -1],\n",
    "    #                 [-1, -1, -1]])\n",
    "\n",
    "    # # Apply the kernel to the image using filter2D\n",
    "    # sharpened_image = cv2.filter2D(eroded_image, -1, kernel)\n",
    "\n",
    "    # Convert to grayscale\n",
    "    gray = cv2.cvtColor(dilated_image, cv2.COLOR_BGR2GRAY)\n",
    "\n",
    "    # Apply Gaussian blur\n",
    "    blurred = cv2.GaussianBlur(gray, (5, 5), 0)\n",
    "\n",
    "    # Detect edges using Canny edge detector\n",
    "    edges = cv2.Canny(blurred, 100, 200)\n",
    "\n",
    "    # Find contours\n",
    "    contours, hierarchy = cv2.findContours(edges, cv2.RETR_EXTERNAL, cv2.CHAIN_APPROX_SIMPLE)\n",
    "\n",
    "    # Minimum area we look at\n",
    "    min_area = 800\n",
    "\n",
    "    # Loop through contours\n",
    "    for contour in contours:\n",
    "        contour_area = cv2.contourArea(contour)\n",
    "        if contour_area > min_area:\n",
    "            # Approximate the contour to a polygon\n",
    "            epsilon = 0.01 * cv2.arcLength(contour, True)\n",
    "            approx = cv2.approxPolyDP(contour, epsilon, True)\n",
    "\n",
    "            # If the shape has 8 vertices, it could be a stop sign (octagon)\n",
    "            if len(approx) == 8:\n",
    "                cv2.drawContours(orig_image, [approx], -1, (0, 255, 0), 2)\n",
    "                cv2.putText(orig_image, 'Stop Sign', tuple(approx[0][0]), cv2.FONT_HERSHEY_SIMPLEX, 1, (255, 0, 0), 2)\n",
    "                cv2.putText(orig_image, str(contour_area), (approx[0][0][0], approx[0][0][1] + 25), cv2.FONT_HERSHEY_SIMPLEX, 1, (255, 0, 0), 2)\n",
    "    \n",
    "    display(Image(data=bgr8_to_jpeg(orig_image)))\n",
    "    time.sleep(0.05)\n",
    "    "
   ]
  }
 ],
 "metadata": {
  "language_info": {
   "name": "python"
  }
 },
 "nbformat": 4,
 "nbformat_minor": 2
}
