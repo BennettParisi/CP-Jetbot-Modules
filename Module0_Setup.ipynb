{
 "cells": [
  {
   "cell_type": "code",
   "execution_count": null,
   "id": "da197354",
   "metadata": {},
   "outputs": [],
   "source": [
    "!hostname -I"
   ]
  },
  {
   "cell_type": "code",
   "execution_count": null,
   "id": "07a29fd6",
   "metadata": {},
   "outputs": [],
   "source": [
    "print(\"Hello, JetBot!\")\n",
    "from jetbot import Robot\n",
    "\n",
    "robot = Robot()\n",
    "robot.stop()"
   ]
  }
 ],
 "metadata": {
  "language_info": {
   "name": "python"
  }
 },
 "nbformat": 4,
 "nbformat_minor": 5
}
