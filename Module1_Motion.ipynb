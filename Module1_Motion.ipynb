{
 "cells": [
  {
   "cell_type": "markdown",
   "metadata": {},
   "source": [
    "# Module 1: Basic Motion\n",
    "\n",
    "Here we will see how the <span style=\"color:#A4D65E\">Jetbot</span> moves"
   ]
  },
  {
   "cell_type": "markdown",
   "metadata": {},
   "source": [
    "### Basic Movement"
   ]
  },
  {
   "cell_type": "markdown",
   "metadata": {},
   "source": [
    "As always, we must first import the necessary modules and packages to interface with the <span style=\"color:#A4D65E\">Jetbot</span>."
   ]
  },
  {
   "cell_type": "code",
   "execution_count": 34,
   "metadata": {},
   "outputs": [],
   "source": [
    "from jetbot import Robot\n",
    "import time"
   ]
  },
  {
   "cell_type": "code",
   "execution_count": 35,
   "metadata": {},
   "outputs": [],
   "source": [
    "robot = Robot()"
   ]
  },
  {
   "cell_type": "markdown",
   "metadata": {},
   "source": [
    "The following code will show how the <span style=\"color:#A4D65E\">Jetbot</span> motors are controlled and how to stop them."
   ]
  },
  {
   "cell_type": "code",
   "execution_count": 36,
   "metadata": {},
   "outputs": [],
   "source": [
    "robot.left(0.3)\n",
    "time.sleep(0.5)\n",
    "robot.stop()"
   ]
  },
  {
   "cell_type": "markdown",
   "metadata": {},
   "source": [
    "As can be seen, this is done by rotating the left and right wheels in opposite direction at the same speed. However, this can also be accomplished by setting the motors to opposite speeds, as seen below."
   ]
  },
  {
   "cell_type": "code",
   "execution_count": 37,
   "metadata": {},
   "outputs": [],
   "source": [
    "robot.set_motors(0.3, -0.3)\n",
    "time.sleep(1.0)\n",
    "robot.stop()"
   ]
  },
  {
   "cell_type": "markdown",
   "metadata": {},
   "source": [
    "Using this method, one can make the <span style=\"color:#A4D65E\">Jetbot</span> turn while still driving forward, similar to how an actual car would turn."
   ]
  },
  {
   "cell_type": "markdown",
   "metadata": {},
   "source": [
    "<div class=\"alert alert-block alert-danger\">\n",
    "(Be wary that this will make the <span style=\"color:#154734\">Jetbot</span> travel, so ensure it has the space to move)\n",
    "</div>"
   ]
  },
  {
   "cell_type": "code",
   "execution_count": 38,
   "metadata": {},
   "outputs": [],
   "source": [
    "robot.set_motors(0.5, 0.3)\n",
    "time.sleep(1.0)\n",
    "robot.stop()"
   ]
  },
  {
   "cell_type": "markdown",
   "metadata": {},
   "source": [
    "<div class=\"alert alert-block alert-info\">\n",
    "Opportunity for an activity\n",
    "</div>"
   ]
  },
  {
   "cell_type": "markdown",
   "metadata": {},
   "source": [
    "In addition, we want to be able to determine where our <span style=\"color:#A4D65E\">Jetbot</span> is based on how far it has moved.\n",
    "This can be done by taking the current speed and the time it is at that speed, to calculate the distance moved (think distance = rate*time) In this next section, we will discuss how to create this model for the <span style=\"color:#A4D65E\">Jetbot</span>."
   ]
  },
  {
   "cell_type": "markdown",
   "metadata": {},
   "source": [
    "### Modeling: Part 1 <a id=\"Modeling1\"></a>"
   ]
  },
  {
   "cell_type": "markdown",
   "metadata": {},
   "source": [
    "Before we can calculate or create any model for the <span style=\"color:#A4D65E\">Jetbot</span>, we must first calibrate the wheels. The values we send to the <span style=\"color:#A4D65E\">Jetbot</span> in our commands refer to the percentage of our max speed that the wheels operate at. For example, below we are sending the forward command with a value of 0.2, meaning that the wheels will travel at 20% of their max speed."
   ]
  },
  {
   "cell_type": "markdown",
   "metadata": {},
   "source": [
    "<div class=\"alert alert-block alert-info\">\n",
    "Opportunity for an activity\n",
    "</div>"
   ]
  },
  {
   "cell_type": "code",
   "execution_count": 39,
   "metadata": {},
   "outputs": [],
   "source": [
    "robot.forward(0.2)\n",
    "time.sleep(1.0)\n",
    "robot.stop()"
   ]
  },
  {
   "cell_type": "markdown",
   "metadata": {},
   "source": [
    "First, let's measure some of the parts of our <span style=\"color:#A4D65E\">Jetbot</span>. In particular, we want to measure the diameter of wheels and the length between them. When measuring the diameter, make sure to measure from the outside of one part of the wheel to the outside of another part of the wheel, with the ruler passing through the center of the wheel. When measuring the length, make sure to measure between the middle of each wheel. Record your measurements below (in meters and with two decimal points)."
   ]
  },
  {
   "cell_type": "markdown",
   "metadata": {},
   "source": [
    "<div class=\"alert alert-block alert-info\">\n",
    "Values need to be modified to be blank or some prompt.\n",
    "</div>"
   ]
  },
  {
   "cell_type": "code",
   "execution_count": 2,
   "metadata": {},
   "outputs": [],
   "source": [
    "# Set radius equal to radius of wheels measured\n",
    "diameter = .064 # meters\n",
    "# Set length equal to distance measured between the middles of each wheel\n",
    "length = .119 # meters"
   ]
  },
  {
   "cell_type": "markdown",
   "metadata": {},
   "source": [
    "Next, let's create a small lane for our <span style=\"color:#A4D65E\">Jetbot</span> to travel forward in. Now we will place a meterstick next to the <span style=\"color:#A4D65E\">Jetbot</span> in a way that will allow us to measure the distance the <span style=\"color:#A4D65E\">Jetbot</span> travels. This should mean that the 0 end of the stick is next to the <span style=\"color:#A4D65E\">Jetbot</span> (preferably in line with the axle), and extending in the same direction the <span style=\"color:#A4D65E\">Jetbot</span> is facing."
   ]
  },
  {
   "cell_type": "markdown",
   "metadata": {},
   "source": [
    "Now that we have set up our measuring tool, we will run the following code, and see the distance the <span style=\"color:#A4D65E\">Jetbot</span> travels. Make sure to record the distance travelled (in meters and with three decimal points)"
   ]
  },
  {
   "cell_type": "code",
   "execution_count": 4,
   "metadata": {},
   "outputs": [],
   "source": [
    "test_speed = 0.2\n",
    "robot.forward(test_speed)\n",
    "init_time = time.time()\n",
    "time.sleep(1.0)\n",
    "robot.stop()\n",
    "end_time = time.time()"
   ]
  },
  {
   "cell_type": "markdown",
   "metadata": {},
   "source": [
    "Now add the distance to the code below to determine the speed of our wheels."
   ]
  },
  {
   "cell_type": "markdown",
   "metadata": {},
   "source": [
    "<div class=\"alert alert-block alert-info\">\n",
    "Values need to be modified to be blank or some prompt.\n",
    "</div>"
   ]
  },
  {
   "cell_type": "code",
   "execution_count": 3,
   "metadata": {},
   "outputs": [],
   "source": [
    "# Set the variable distance_travelled equal to the distance you measured\n",
    "distance_travelled = .282 # meters"
   ]
  },
  {
   "cell_type": "markdown",
   "metadata": {},
   "source": [
    "Using this value we can now determine the max speed of our wheels. Run the following code, which should print out the max speed below."
   ]
  },
  {
   "cell_type": "code",
   "execution_count": null,
   "metadata": {},
   "outputs": [],
   "source": [
    "max_speed = distance_travelled*(end_time - init_time)/(diameter/2.0*test_speed) # rad/s\n",
    "print(max_speed)"
   ]
  },
  {
   "cell_type": "markdown",
   "metadata": {},
   "source": [
    "Note that the max speed is measured in rad/s. Keep track of your radius, length, and max_speed variables. These will be used in future modules."
   ]
  },
  {
   "cell_type": "markdown",
   "metadata": {},
   "source": [
    "For reference, they will be printed after running the code below. (You can copy and paste into the next part in Module 2)"
   ]
  },
  {
   "cell_type": "code",
   "execution_count": null,
   "metadata": {},
   "outputs": [],
   "source": [
    "print(\"diameter = %.2f # meters\" % diameter)\n",
    "print(\"length = %.2f # meters\" % length)\n",
    "print(\"max_speed = %.3f # rad/s\" % max_speed)"
   ]
  }
 ],
 "metadata": {
  "kernelspec": {
   "display_name": "Python 3",
   "language": "python",
   "name": "python3"
  },
  "language_info": {
   "codemirror_mode": {
    "name": "ipython",
    "version": 3
   },
   "file_extension": ".py",
   "mimetype": "text/x-python",
   "name": "python",
   "nbconvert_exporter": "python",
   "pygments_lexer": "ipython3",
   "version": "3.13.1"
  }
 },
 "nbformat": 4,
 "nbformat_minor": 2
}
