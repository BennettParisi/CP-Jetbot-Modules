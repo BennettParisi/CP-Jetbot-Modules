{
 "cells": [
  {
   "cell_type": "markdown",
   "id": "cc5f20aa",
   "metadata": {},
   "source": [
    "# Module 0: Setup and Jupyter Notebooks\n",
    "\n",
    "Here is where we will be working for the majority of our workshop. Below is some basic code that makes sure that our <b><span style=\"color:#154734\">JetBot</span></b> is running correctly and we are able to correctly access the robots.\n",
    "\n",
    "This first block will display the IP Address of the robot you are connected. Ensure that this is the same value listed on the OLED of the <b><span style=\"color:#154734\">JetBot</span></b> you're using."
   ]
  },
  {
   "cell_type": "code",
   "execution_count": null,
   "id": "da197354",
   "metadata": {},
   "outputs": [],
   "source": [
    "!hostname -I"
   ]
  },
  {
   "cell_type": "markdown",
   "id": "f9128a2f",
   "metadata": {},
   "source": [
    "This next code makes sure that the <b><span style=\"color:#154734\">JetBot</span></b> is able to run basic commands. Make sure when you run this, that <i>\"Hello, JetBot!\"</i> appears below, and no errors occur."
   ]
  },
  {
   "cell_type": "code",
   "execution_count": null,
   "id": "07a29fd6",
   "metadata": {},
   "outputs": [],
   "source": [
    "print(\"Hello, JetBot!\")\n",
    "\n",
    "from jetbot import Robot\n",
    "\n",
    "robot = Robot()\n",
    "robot.stop()"
   ]
  }
 ],
 "metadata": {
  "language_info": {
   "name": "python"
  }
 },
 "nbformat": 4,
 "nbformat_minor": 5
}
