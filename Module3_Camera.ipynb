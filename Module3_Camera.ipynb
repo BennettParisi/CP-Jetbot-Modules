{
 "cells": [
  {
   "cell_type": "markdown",
   "metadata": {},
   "source": [
    "# Module 3: Camera and Computer Vision Basics\n",
    "\n",
    "Now that we have basic motion and odometery implemented, we will look at the camera on the <span style=\"color:#A4D65E\">Jetbot</span> and how images are handled within Python.\n",
    "\n",
    "This Module should follow Module 2: Path Following"
   ]
  },
  {
   "cell_type": "markdown",
   "metadata": {},
   "source": [
    "As always, we need to first initialize some of the packages and objects for our <span style=\"color:#A4D65E\">Jetbot</span>."
   ]
  },
  {
   "cell_type": "code",
   "execution_count": null,
   "metadata": {},
   "outputs": [],
   "source": [
    "from jetbot import Robot\n",
    "from jetbot import Camera\n",
    "import ipywidgets.widgets as widgets"
   ]
  }
 ],
 "metadata": {
  "kernelspec": {
   "display_name": "Python 3",
   "language": "python",
   "name": "python3"
  },
  "language_info": {
   "codemirror_mode": {
    "name": "ipython",
    "version": 3
   },
   "file_extension": ".py",
   "mimetype": "text/x-python",
   "name": "python",
   "nbconvert_exporter": "python",
   "pygments_lexer": "ipython3",
   "version": "3.13.1"
  }
 },
 "nbformat": 4,
 "nbformat_minor": 2
}
